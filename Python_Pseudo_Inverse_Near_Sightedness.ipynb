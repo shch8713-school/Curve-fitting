{
 "cells": [
  {
   "cell_type": "markdown",
   "id": "d918e206",
   "metadata": {},
   "source": [
    "# Elementary kids nearsighted ratio"
   ]
  },
  {
   "cell_type": "markdown",
   "id": "2ab06f36",
   "metadata": {},
   "source": [
    "## Pseudo inverse"
   ]
  },
  {
   "cell_type": "code",
   "execution_count": 111,
   "id": "1887c3e0",
   "metadata": {},
   "outputs": [],
   "source": [
    "# N (600 equations) > n (2 unknowns)\n",
    "# y = mx + b "
   ]
  },
  {
   "cell_type": "code",
   "execution_count": 112,
   "id": "7d4af343",
   "metadata": {},
   "outputs": [],
   "source": [
    "import math \n",
    "import numpy as np\n",
    "import matplotlib.pyplot as plt"
   ]
  },
  {
   "cell_type": "markdown",
   "id": "efd2fa23",
   "metadata": {},
   "source": [
    "## Entering data"
   ]
  },
  {
   "cell_type": "code",
   "execution_count": 113,
   "id": "93a33c0a",
   "metadata": {},
   "outputs": [
    {
     "name": "stdout",
     "output_type": "stream",
     "text": [
      "float64 6 float64 6\n"
     ]
    },
    {
     "data": {
      "image/png": "[encoded data removed]",
      "text/plain": [
       "<Figure size 432x288 with 1 Axes>"
      ]
     },
     "metadata": {
      "needs_background": "light"
     },
     "output_type": "display_data"
    }
   ],
   "source": [
    "x = np.array([1.0,2.0,3.0,4.0,5.0,6.0])\n",
    "y = np.array([25.64, 32.71, 41.33, 49.13, 57.21, 63.21])\n",
    "print(x.dtype, x.size, y.dtype, y.size)\n",
    "plt.plot(x,y,'ro')\n",
    "plt.xlim([0,7])\n",
    "plt.ylim([0, 80])\n",
    "plt.grid()"
   ]
  },
  {
   "cell_type": "markdown",
   "id": "35dcbde3",
   "metadata": {},
   "source": [
    "## Set A_matrix and b_matrix"
   ]
  },
  {
   "cell_type": "code",
   "execution_count": 114,
   "id": "4050ae9b",
   "metadata": {
    "scrolled": true
   },
   "outputs": [
    {
     "name": "stdout",
     "output_type": "stream",
     "text": [
      "[1. 1. 1. 1. 1. 1.]\n",
      "[1. 2. 3. 4. 5. 6.]\n",
      "(array([1., 2., 3., 4., 5., 6.]), array([1., 1., 1., 1., 1., 1.]))\n",
      "[[1. 2. 3. 4. 5. 6.]\n",
      " [1. 1. 1. 1. 1. 1.]] \n",
      "\n",
      "\n",
      "[[1. 1.]\n",
      " [2. 1.]\n",
      " [3. 1.]\n",
      " [4. 1.]\n",
      " [5. 1.]\n",
      " [6. 1.]] \n",
      "\n",
      "float64 12 \n",
      "\n",
      "[[25.64]\n",
      " [32.71]\n",
      " [41.33]\n",
      " [49.13]\n",
      " [57.21]\n",
      " [63.21]] \n",
      "\n",
      "float64 6 \n",
      "\n"
     ]
    }
   ],
   "source": [
    "only_one = np.ones(x.size) \n",
    "A_array = (x, only_one)\n",
    "A_tmp = np.asmatrix(A_array)\n",
    "A_matrix = np.matrix.transpose(A_tmp)\n",
    "\n",
    "B_tmp = np.asmatrix(y)\n",
    "B_matrix = np.matrix.transpose(B_tmp)\n",
    "\n",
    "print(only_one)\n",
    "print(x)\n",
    "print(A_array)\n",
    "print(A_tmp, '\\n\\n')\n",
    "\n",
    "# ---------------\n",
    "print(A_matrix,'\\n')\n",
    "print(A_matrix.dtype,A_matrix.size,'\\n')\n",
    "print(B_matrix,'\\n')\n",
    "print(B_matrix.dtype,B_matrix.size,'\\n')"
   ]
  },
  {
   "cell_type": "code",
   "execution_count": 115,
   "id": "bbe49734",
   "metadata": {},
   "outputs": [
    {
     "name": "stdout",
     "output_type": "stream",
     "text": [
      "[[1. 2. 3. 4. 5. 6.]\n",
      " [1. 1. 1. 1. 1. 1.]] \n",
      "\n",
      "[[91. 21.]\n",
      " [21.  6.]] \n",
      "\n",
      "[[ 0.05714286 -0.2       ]\n",
      " [-0.2         0.86666667]] \n",
      "\n",
      "[[ 7.69      ]\n",
      " [17.95666667]] \n",
      "\n"
     ]
    }
   ],
   "source": [
    "A_transpose = np.matrix.transpose(A_matrix)\n",
    "A_square = A_transpose*A_matrix\n",
    "A_square_inverse = np.linalg.inv(A_square)\n",
    "\n",
    "X_matrix = A_square_inverse * A_transpose * B_matrix\n",
    "print(A_transpose, \"\\n\")\n",
    "print(A_square, \"\\n\")\n",
    "print(A_square_inverse, \"\\n\")\n",
    "print(X_matrix, '\\n') #X_matrix[0] = slope, X_matrix[1] = bias"
   ]
  },
  {
   "cell_type": "code",
   "execution_count": 116,
   "id": "9b76ca89",
   "metadata": {},
   "outputs": [
    {
     "name": "stdout",
     "output_type": "stream",
     "text": [
      "[[7.69]]\n"
     ]
    }
   ],
   "source": [
    "print(X_matrix[0])"
   ]
  },
  {
   "cell_type": "code",
   "execution_count": 117,
   "id": "b655ea4b",
   "metadata": {},
   "outputs": [
    {
     "name": "stdout",
     "output_type": "stream",
     "text": [
      "[1. 6.]\n"
     ]
    }
   ],
   "source": [
    "x_fit = np.zeros(2)\n",
    "y_fit = np.zeros(2)\n",
    "x_fit[0] = 1\n",
    "x_fit[1] = 6\n",
    "m_slope = X_matrix[0]\n",
    "b_bias = X_matrix[1]\n",
    "y_fit[0] = m_slope*1 + b_bias\n",
    "y_fit[1] = m_slope*6 + b_bias\n",
    "\n",
    "print(x_fit)"
   ]
  },
  {
   "cell_type": "code",
   "execution_count": 118,
   "id": "9fe954d1",
   "metadata": {},
   "outputs": [
    {
     "data": {
      "image/png": "[encoded data removed]",
      "text/plain": [
       "<Figure size 432x288 with 1 Axes>"
      ]
     },
     "metadata": {
      "needs_background": "light"
     },
     "output_type": "display_data"
    }
   ],
   "source": [
    "plt.xlim([0,7])\n",
    "plt.ylim([0,80])\n",
    "plt.plot(x,y,'ro')\n",
    "plt.plot(x_fit,y_fit,'b-')\n",
    "plt.grid()\n",
    "plt.show()"
   ]
  },
  {
   "cell_type": "markdown",
   "id": "d92f2083",
   "metadata": {},
   "source": [
    "## Noise"
   ]
  },
  {
   "cell_type": "code",
   "execution_count": 119,
   "id": "f4763bb5",
   "metadata": {},
   "outputs": [
    {
     "name": "stdout",
     "output_type": "stream",
     "text": [
      "0.6075269853587876 -0.6765910924527665\n"
     ]
    }
   ],
   "source": [
    "mu, sigma = 0, 1 #mean and standard deviation from 0 to 1 \n",
    "x_noise = 0.2*np.random.normal(mu, sigma, 600)\n",
    "y_noise = 2.0*np.random.normal(mu, sigma, 600)\n",
    "\n",
    "print(max(x_noise), min(x_noise))"
   ]
  },
  {
   "cell_type": "code",
   "execution_count": 122,
   "id": "f0af715e",
   "metadata": {},
   "outputs": [
    {
     "name": "stdout",
     "output_type": "stream",
     "text": [
      "599 5 6.0\n",
      "float64 6 float64 6\n"
     ]
    },
    {
     "data": {
      "image/png": "[encoded data removed]",
      "text/plain": [
       "<Figure size 432x288 with 1 Axes>"
      ]
     },
     "metadata": {
      "needs_background": "light"
     },
     "output_type": "display_data"
    }
   ],
   "source": [
    "x_new = np.zeros(600)\n",
    "y_new = np.zeros(600)\n",
    "for i in range(0,600):\n",
    "    r1 = int(i/100) #r1 = int(0 to 6)\n",
    "    x_new[i] = x[r1] + x_noise[i]\n",
    "    y_new[i] = y[r1] + y_noise[i]\n",
    "\n",
    "    \n",
    "print(i, r1, x[r1])\n",
    "\n",
    "x_new\n",
    "y_new\n",
    "print(x.dtype, x.size, y.dtype, y.size)\n",
    "\n",
    "\n",
    "plt.plot(x_new,y_new,'ro')\n",
    "plt.plot(x_fit,y_fit)\n",
    "plt.xlim([0,7])\n",
    "plt.ylim([0,80])\n",
    "plt.grid()"
   ]
  },
  {
   "cell_type": "code",
   "execution_count": null,
   "id": "772172ea",
   "metadata": {},
   "outputs": [],
   "source": []
  },
  {
   "cell_type": "code",
   "execution_count": null,
   "id": "43c3e80f",
   "metadata": {},
   "outputs": [],
   "source": []
  }
 ],
 "metadata": {
  "kernelspec": {
   "display_name": "Python 3",
   "language": "python",
   "name": "python3"
  },
  "language_info": {
   "codemirror_mode": {
    "name": "ipython",
    "version": 3
   },
   "file_extension": ".py",
   "mimetype": "text/x-python",
   "name": "python",
   "nbconvert_exporter": "python",
   "pygments_lexer": "ipython3",
   "version": "3.7.11"
  }
 },
 "nbformat": 4,
 "nbformat_minor": 5
}
